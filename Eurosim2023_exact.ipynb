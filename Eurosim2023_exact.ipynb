{
 "cells": [
  {
   "cell_type": "code",
   "execution_count": 4,
   "id": "4d98d92f",
   "metadata": {},
   "outputs": [],
   "source": [
    "import random\n",
    "from itertools import product\n",
    "from math import sqrt\n",
    "import gurobipy as gp\n",
    "from gurobipy import GRB\n",
    "import numpy as np"
   ]
  },
  {
   "cell_type": "code",
   "execution_count": 3,
   "id": "18e3f5ea",
   "metadata": {},
   "outputs": [
    {
     "name": "stdout",
     "output_type": "stream",
     "text": [
      "32\n"
     ]
    }
   ],
   "source": [
    "# Parameters\n",
    "\n",
    "M=2 #Number of Hospitals\n",
    "NT=3 #Number of Planning Periods\n",
    "NC=2 #Number of Costs\n",
    "L=2 #Number of Reusability\n",
    "\n",
    "D={(0,0):2, (0,1):4, (0,2):2,\n",
    "    (1,0):2, (1,1):1, (1,2):5}\n",
    "\n",
    "N=2*sum(D[j,t] for j,t in D)   # Total number of variables\n",
    "print(N)\n",
    "Ndis=round(N/2)       # # Total number of disposable Products\n",
    "#cartesian_prod = list(product(range(NC), range(N)))\n",
    "#P={(c,i):random.randint(1, 9) for c, i in cartesian_prod} #Creating a random costs dictionary\n",
    "\n",
    "P={(0, 0): 3, (0, 1): 5, (0, 2): 3, (0, 3): 7, (0, 4): 2, (0, 5): 3, (0, 6): 7,\n",
    "   (0, 7): 5, (0, 8): 4, (0, 9): 9, (0, 10): 7, (0, 11): 6, (0, 12): 5, (0, 13): 2,\n",
    "   (0, 14): 8, (0, 15): 6, (0, 16): 5, (0, 17): 9, (0, 18): 2, (0, 19): 1, (0, 20): 3,\n",
    "   (0, 21): 9, (0, 22): 6, (0, 23): 1, (0, 24): 4, (0, 25): 1, (0, 26): 4, (0, 27): 1,\n",
    "   (0, 28): 2, (0, 29): 8, (0, 30): 8, (0, 31): 3, (1, 0): 3, (1, 1): 2, (1, 2): 1, (1, 3): 2,\n",
    "   (1, 4): 6, (1, 5): 2, (1, 6): 5, (1, 7): 5, (1, 8): 9, (1, 9): 5, (1, 10): 4, (1, 11): 3,\n",
    "   (1, 12): 2, (1, 13): 5, (1, 14): 6, (1, 15): 5, (1, 16): 7, (1, 17): 9, (1, 18): 6, (1, 19): 2,\n",
    "   (1, 20): 6, (1, 21): 9, (1, 22): 9, (1, 23): 9, (1, 24): 5, (1, 25): 8, (1, 26): 1, (1, 27): 7,\n",
    "   (1, 28): 7, (1, 29): 1, (1, 30): 9, (1, 31): 6}\n"
   ]
  },
  {
   "cell_type": "code",
   "execution_count": 49,
   "id": "50484864",
   "metadata": {},
   "outputs": [
    {
     "name": "stdout",
     "output_type": "stream",
     "text": [
      "Set parameter Username\n",
      "Academic license - for non-commercial use only - expires 2023-12-14\n"
     ]
    }
   ],
   "source": [
    "model=gp.Model(\"hospital_gown\")"
   ]
  },
  {
   "cell_type": "code",
   "execution_count": 63,
   "id": "aee9f68c",
   "metadata": {},
   "outputs": [],
   "source": [
    "x = model.addVars(N, NT, vtype=GRB.BINARY, name='x')\n",
    "cost = model.addVars(NC, NT, vtype=GRB.CONTINUOUS, name='cost')\n",
    "costU = model.addVars(NC, vtype=GRB.CONTINUOUS, name='costU')"
   ]
  },
  {
   "cell_type": "code",
   "execution_count": 91,
   "id": "46a0651a",
   "metadata": {},
   "outputs": [],
   "source": [
    "a=sum(D[j,t] for j in range(M) for t in range(NT))\n"
   ]
  },
  {
   "cell_type": "code",
   "execution_count": 68,
   "id": "3f5a7bf6",
   "metadata": {},
   "outputs": [
    {
     "data": {
      "text/plain": [
       "{0: <gurobi.Constr *Awaiting Model Update*>,\n",
       " 1: <gurobi.Constr *Awaiting Model Update*>,\n",
       " 2: <gurobi.Constr *Awaiting Model Update*>}"
      ]
     },
     "execution_count": 68,
     "metadata": {},
     "output_type": "execute_result"
    }
   ],
   "source": [
    "model.addConstrs((gp.quicksum(D[j,t] for j in range(M)) <= gp.quicksum(x[i,t] for i in range(N))\n",
    "                  for t in range(NT)), name='Demand Satisfaction')"
   ]
  },
  {
   "cell_type": "code",
   "execution_count": 85,
   "id": "8d9cc0cf",
   "metadata": {},
   "outputs": [
    {
     "data": {
      "text/plain": [
       "{0: <gurobi.Constr *Awaiting Model Update*>,\n",
       " 1: <gurobi.Constr *Awaiting Model Update*>,\n",
       " 2: <gurobi.Constr *Awaiting Model Update*>,\n",
       " 3: <gurobi.Constr *Awaiting Model Update*>,\n",
       " 4: <gurobi.Constr *Awaiting Model Update*>,\n",
       " 5: <gurobi.Constr *Awaiting Model Update*>,\n",
       " 6: <gurobi.Constr *Awaiting Model Update*>,\n",
       " 7: <gurobi.Constr *Awaiting Model Update*>,\n",
       " 8: <gurobi.Constr *Awaiting Model Update*>,\n",
       " 9: <gurobi.Constr *Awaiting Model Update*>,\n",
       " 10: <gurobi.Constr *Awaiting Model Update*>,\n",
       " 11: <gurobi.Constr *Awaiting Model Update*>,\n",
       " 12: <gurobi.Constr *Awaiting Model Update*>,\n",
       " 13: <gurobi.Constr *Awaiting Model Update*>,\n",
       " 14: <gurobi.Constr *Awaiting Model Update*>,\n",
       " 15: <gurobi.Constr *Awaiting Model Update*>}"
      ]
     },
     "execution_count": 85,
     "metadata": {},
     "output_type": "execute_result"
    }
   ],
   "source": [
    "model.addConstrs((gp.quicksum(x[i,t] for t in range(NT)) <= 1\n",
    "                  for i in range(Ndis)), name='Disposable Product')"
   ]
  },
  {
   "cell_type": "code",
   "execution_count": 84,
   "id": "d1dff007",
   "metadata": {},
   "outputs": [
    {
     "data": {
      "text/plain": [
       "{16: <gurobi.Constr *Awaiting Model Update*>,\n",
       " 17: <gurobi.Constr *Awaiting Model Update*>,\n",
       " 18: <gurobi.Constr *Awaiting Model Update*>,\n",
       " 19: <gurobi.Constr *Awaiting Model Update*>,\n",
       " 20: <gurobi.Constr *Awaiting Model Update*>,\n",
       " 21: <gurobi.Constr *Awaiting Model Update*>,\n",
       " 22: <gurobi.Constr *Awaiting Model Update*>,\n",
       " 23: <gurobi.Constr *Awaiting Model Update*>,\n",
       " 24: <gurobi.Constr *Awaiting Model Update*>,\n",
       " 25: <gurobi.Constr *Awaiting Model Update*>,\n",
       " 26: <gurobi.Constr *Awaiting Model Update*>,\n",
       " 27: <gurobi.Constr *Awaiting Model Update*>,\n",
       " 28: <gurobi.Constr *Awaiting Model Update*>,\n",
       " 29: <gurobi.Constr *Awaiting Model Update*>,\n",
       " 30: <gurobi.Constr *Awaiting Model Update*>,\n",
       " 31: <gurobi.Constr *Awaiting Model Update*>}"
      ]
     },
     "execution_count": 84,
     "metadata": {},
     "output_type": "execute_result"
    }
   ],
   "source": [
    "model.addConstrs((gp.quicksum(x[i,t] for t in range(NT)) <= L\n",
    "                  for i in range(Ndis,N)), name='Reusable Product')"
   ]
  },
  {
   "cell_type": "code",
   "execution_count": 86,
   "id": "27d0bbbc",
   "metadata": {},
   "outputs": [
    {
     "data": {
      "text/plain": [
       "{(0, 0): <gurobi.Constr *Awaiting Model Update*>,\n",
       " (0, 1): <gurobi.Constr *Awaiting Model Update*>,\n",
       " (1, 0): <gurobi.Constr *Awaiting Model Update*>,\n",
       " (1, 1): <gurobi.Constr *Awaiting Model Update*>,\n",
       " (2, 0): <gurobi.Constr *Awaiting Model Update*>,\n",
       " (2, 1): <gurobi.Constr *Awaiting Model Update*>}"
      ]
     },
     "execution_count": 86,
     "metadata": {},
     "output_type": "execute_result"
    }
   ],
   "source": [
    "model.addConstrs((gp.quicksum(x[i,t]*P[c,i] for i in range(N)) <= cost[c,t]\n",
    "                  for t in range(NT) for c in range(NC)), name='Cost Calculation')"
   ]
  },
  {
   "cell_type": "code",
   "execution_count": 87,
   "id": "bf760f9f",
   "metadata": {},
   "outputs": [
    {
     "data": {
      "text/plain": [
       "{0: <gurobi.Constr *Awaiting Model Update*>,\n",
       " 1: <gurobi.Constr *Awaiting Model Update*>}"
      ]
     },
     "execution_count": 87,
     "metadata": {},
     "output_type": "execute_result"
    }
   ],
   "source": [
    "model.addConstrs((gp.quicksum(cost[c,t] for t in range(NT)) <= costU[c]\n",
    "                  for c in range(NC)), name='Total Cost Calculation')"
   ]
  },
  {
   "cell_type": "code",
   "execution_count": 88,
   "id": "8aac436b",
   "metadata": {},
   "outputs": [],
   "source": [
    "model.setObjective(gp.quicksum(costU[c] for c in range(NC)), GRB.MINIMIZE)"
   ]
  },
  {
   "cell_type": "code",
   "execution_count": 89,
   "id": "b12147a2",
   "metadata": {},
   "outputs": [
    {
     "name": "stdout",
     "output_type": "stream",
     "text": [
      "Gurobi Optimizer version 10.0.0 build v10.0.0rc2 (win64)\n",
      "\n",
      "CPU model: 11th Gen Intel(R) Core(TM) i7-11800H @ 2.30GHz, instruction set [SSE2|AVX|AVX2|AVX512]\n",
      "Thread count: 8 physical cores, 16 logical processors, using up to 16 threads\n",
      "\n",
      "Optimize a model with 62 rows, 502 columns and 542 nonzeros\n",
      "Model fingerprint: 0x031cf5ae\n",
      "Variable types: 22 continuous, 480 integer (480 binary)\n",
      "Coefficient statistics:\n",
      "  Matrix range     [1e+00, 9e+00]\n",
      "  Objective range  [1e+00, 1e+00]\n",
      "  Bounds range     [1e+00, 1e+00]\n",
      "  RHS range        [1e+00, 7e+00]\n",
      "Found heuristic solution: objective 131.0000000\n",
      "Presolve removed 27 rows and 406 columns\n",
      "Presolve time: 0.01s\n",
      "Presolved: 35 rows, 96 columns, 192 nonzeros\n",
      "Variable types: 0 continuous, 96 integer (96 binary)\n",
      "Found heuristic solution: objective 110.0000000\n",
      "\n",
      "Root relaxation: objective 1.010000e+02, 24 iterations, 0.00 seconds (0.00 work units)\n",
      "\n",
      "    Nodes    |    Current Node    |     Objective Bounds      |     Work\n",
      " Expl Unexpl |  Obj  Depth IntInf | Incumbent    BestBd   Gap | It/Node Time\n",
      "\n",
      "*    0     0               0     101.0000000  101.00000  0.00%     -    0s\n",
      "\n",
      "Explored 1 nodes (24 simplex iterations) in 0.04 seconds (0.00 work units)\n",
      "Thread count was 16 (of 16 available processors)\n",
      "\n",
      "Solution count 3: 101 110 131 \n",
      "\n",
      "Optimal solution found (tolerance 1.00e-04)\n",
      "Best objective 1.010000000000e+02, best bound 1.010000000000e+02, gap 0.0000%\n"
     ]
    }
   ],
   "source": [
    "model.optimize()"
   ]
  },
  {
   "cell_type": "code",
   "execution_count": 90,
   "id": "016969ea",
   "metadata": {},
   "outputs": [
    {
     "name": "stdout",
     "output_type": "stream",
     "text": [
      "\n",
      "    Variable            x \n",
      "-------------------------\n",
      "      x[0,0]            1 \n",
      "      x[1,1]            1 \n",
      "      x[2,1]            1 \n",
      "      x[3,0]            1 \n",
      "      x[4,2]            1 \n",
      "      x[5,2]            1 \n",
      "     x[12,1]            1 \n",
      "     x[13,2]            1 \n",
      "     x[18,1]            1 \n",
      "     x[18,2]            1 \n",
      "     x[19,0]            1 \n",
      "     x[19,2]            1 \n",
      "     x[26,1]            1 \n",
      "     x[26,2]            1 \n",
      "     x[27,0]            1 \n",
      "     x[27,2]            1 \n",
      "   cost[0,0]           12 \n",
      "   cost[0,1]           19 \n",
      "   cost[0,2]           15 \n",
      "   cost[1,0]           14 \n",
      "   cost[1,1]           12 \n",
      "   cost[1,2]           29 \n",
      "    costU[0]           46 \n",
      "    costU[1]           55 \n"
     ]
    }
   ],
   "source": [
    "model.printAttr(\"x\")"
   ]
  },
  {
   "cell_type": "code",
   "execution_count": 9,
   "id": "f4c37cfa",
   "metadata": {},
   "outputs": [
    {
     "name": "stdout",
     "output_type": "stream",
     "text": [
      "[10042  9764 10152  9929  9944  9908  9737  9888 10032 10168]\n"
     ]
    }
   ],
   "source": [
    "s = np.random.poisson(10000, 10)\n",
    "print(s)"
   ]
  }
 ],
 "metadata": {
  "kernelspec": {
   "display_name": "Python 3 (ipykernel)",
   "language": "python",
   "name": "python3"
  },
  "language_info": {
   "codemirror_mode": {
    "name": "ipython",
    "version": 3
   },
   "file_extension": ".py",
   "mimetype": "text/x-python",
   "name": "python",
   "nbconvert_exporter": "python",
   "pygments_lexer": "ipython3",
   "version": "3.9.13"
  }
 },
 "nbformat": 4,
 "nbformat_minor": 5
}
